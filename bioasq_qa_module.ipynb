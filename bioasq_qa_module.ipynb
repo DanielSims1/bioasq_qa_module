{
  "nbformat": 4,
  "nbformat_minor": 0,
  "metadata": {
    "colab": {
      "name": "QA module",
      "provenance": [],
      "collapsed_sections": [],
      "mount_file_id": "1vLH5agrr2i_QaEwWT2YQP4ppb0AwA2GX",
      "authorship_tag": "ABX9TyNfKtFzcK5xjl6hsRSoVtZ8",
      "include_colab_link": true
    },
    "kernelspec": {
      "name": "python3",
      "display_name": "Python 3"
    },
    "accelerator": "GPU"
  },
  "cells": [
    {
      "cell_type": "markdown",
      "metadata": {
        "id": "view-in-github",
        "colab_type": "text"
      },
      "source": [
        "<a href=\"https://colab.research.google.com/github/masonnlp/bioasq_qa_module/blob/master/bioasq_qa_module.ipynb\" target=\"_parent\"><img src=\"https://colab.research.google.com/assets/colab-badge.svg\" alt=\"Open In Colab\"/></a>"
      ]
    },
    {
      "cell_type": "code",
      "metadata": {
        "id": "rmlhtNiCNQ_H",
        "colab_type": "code",
        "colab": {
          "base_uri": "https://localhost:8080/",
          "height": 34
        },
        "outputId": "c9e06fe8-572f-46a8-8720-0e1ce5aa704d"
      },
      "source": [
        "%cd /content/drive/My Drive/bert/\n"
      ],
      "execution_count": null,
      "outputs": [
        {
          "output_type": "stream",
          "text": [
            "/content/drive/My Drive/bert/bioasq-biobert\n"
          ],
          "name": "stdout"
        }
      ]
    },
    {
      "cell_type": "code",
      "metadata": {
        "id": "VGohc2YpQhLm",
        "colab_type": "code",
        "colab": {
          "base_uri": "https://localhost:8080/",
          "height": 851
        },
        "outputId": "49359a0a-efb7-4ec4-b2f9-16180554de80"
      },
      "source": [
        "%pip install tensorflow-gpu==1.13.1\n",
        "%pip install dicttoxml"
      ],
      "execution_count": null,
      "outputs": [
        {
          "output_type": "stream",
          "text": [
            "Collecting tensorflow-gpu==1.13.1\n",
            "\u001b[?25l  Downloading https://files.pythonhosted.org/packages/7b/b1/0ad4ae02e17ddd62109cd54c291e311c4b5fd09b4d0678d3d6ce4159b0f0/tensorflow_gpu-1.13.1-cp36-cp36m-manylinux1_x86_64.whl (345.2MB)\n",
            "\u001b[K     |████████████████████████████████| 345.2MB 53kB/s \n",
            "\u001b[?25hRequirement already satisfied: protobuf>=3.6.1 in /usr/local/lib/python3.6/dist-packages (from tensorflow-gpu==1.13.1) (3.10.0)\n",
            "Requirement already satisfied: keras-preprocessing>=1.0.5 in /usr/local/lib/python3.6/dist-packages (from tensorflow-gpu==1.13.1) (1.1.2)\n",
            "Requirement already satisfied: grpcio>=1.8.6 in /usr/local/lib/python3.6/dist-packages (from tensorflow-gpu==1.13.1) (1.30.0)\n",
            "Requirement already satisfied: keras-applications>=1.0.6 in /usr/local/lib/python3.6/dist-packages (from tensorflow-gpu==1.13.1) (1.0.8)\n",
            "Requirement already satisfied: numpy>=1.13.3 in /usr/local/lib/python3.6/dist-packages (from tensorflow-gpu==1.13.1) (1.18.5)\n",
            "Collecting tensorboard<1.14.0,>=1.13.0\n",
            "\u001b[?25l  Downloading https://files.pythonhosted.org/packages/0f/39/bdd75b08a6fba41f098b6cb091b9e8c7a80e1b4d679a581a0ccd17b10373/tensorboard-1.13.1-py3-none-any.whl (3.2MB)\n",
            "\u001b[K     |████████████████████████████████| 3.2MB 42.4MB/s \n",
            "\u001b[?25hRequirement already satisfied: wheel>=0.26 in /usr/local/lib/python3.6/dist-packages (from tensorflow-gpu==1.13.1) (0.34.2)\n",
            "Requirement already satisfied: six>=1.10.0 in /usr/local/lib/python3.6/dist-packages (from tensorflow-gpu==1.13.1) (1.12.0)\n",
            "Requirement already satisfied: termcolor>=1.1.0 in /usr/local/lib/python3.6/dist-packages (from tensorflow-gpu==1.13.1) (1.1.0)\n",
            "Requirement already satisfied: astor>=0.6.0 in /usr/local/lib/python3.6/dist-packages (from tensorflow-gpu==1.13.1) (0.8.1)\n",
            "Requirement already satisfied: absl-py>=0.1.6 in /usr/local/lib/python3.6/dist-packages (from tensorflow-gpu==1.13.1) (0.9.0)\n",
            "Collecting tensorflow-estimator<1.14.0rc0,>=1.13.0\n",
            "\u001b[?25l  Downloading https://files.pythonhosted.org/packages/bb/48/13f49fc3fa0fdf916aa1419013bb8f2ad09674c275b4046d5ee669a46873/tensorflow_estimator-1.13.0-py2.py3-none-any.whl (367kB)\n",
            "\u001b[K     |████████████████████████████████| 368kB 44.4MB/s \n",
            "\u001b[?25hRequirement already satisfied: gast>=0.2.0 in /usr/local/lib/python3.6/dist-packages (from tensorflow-gpu==1.13.1) (0.3.3)\n",
            "Requirement already satisfied: setuptools in /usr/local/lib/python3.6/dist-packages (from protobuf>=3.6.1->tensorflow-gpu==1.13.1) (47.3.1)\n",
            "Requirement already satisfied: h5py in /usr/local/lib/python3.6/dist-packages (from keras-applications>=1.0.6->tensorflow-gpu==1.13.1) (2.10.0)\n",
            "Requirement already satisfied: markdown>=2.6.8 in /usr/local/lib/python3.6/dist-packages (from tensorboard<1.14.0,>=1.13.0->tensorflow-gpu==1.13.1) (3.2.2)\n",
            "Requirement already satisfied: werkzeug>=0.11.15 in /usr/local/lib/python3.6/dist-packages (from tensorboard<1.14.0,>=1.13.0->tensorflow-gpu==1.13.1) (1.0.1)\n",
            "Collecting mock>=2.0.0\n",
            "  Downloading https://files.pythonhosted.org/packages/cd/74/d72daf8dff5b6566db857cfd088907bb0355f5dd2914c4b3ef065c790735/mock-4.0.2-py3-none-any.whl\n",
            "Requirement already satisfied: importlib-metadata; python_version < \"3.8\" in /usr/local/lib/python3.6/dist-packages (from markdown>=2.6.8->tensorboard<1.14.0,>=1.13.0->tensorflow-gpu==1.13.1) (1.6.1)\n",
            "Requirement already satisfied: zipp>=0.5 in /usr/local/lib/python3.6/dist-packages (from importlib-metadata; python_version < \"3.8\"->markdown>=2.6.8->tensorboard<1.14.0,>=1.13.0->tensorflow-gpu==1.13.1) (3.1.0)\n",
            "\u001b[31mERROR: tensorflow 2.2.0 has requirement tensorboard<2.3.0,>=2.2.0, but you'll have tensorboard 1.13.1 which is incompatible.\u001b[0m\n",
            "\u001b[31mERROR: tensorflow 2.2.0 has requirement tensorflow-estimator<2.3.0,>=2.2.0, but you'll have tensorflow-estimator 1.13.0 which is incompatible.\u001b[0m\n",
            "Installing collected packages: tensorboard, mock, tensorflow-estimator, tensorflow-gpu\n",
            "  Found existing installation: tensorboard 2.2.2\n",
            "    Uninstalling tensorboard-2.2.2:\n",
            "      Successfully uninstalled tensorboard-2.2.2\n",
            "  Found existing installation: tensorflow-estimator 2.2.0\n",
            "    Uninstalling tensorflow-estimator-2.2.0:\n",
            "      Successfully uninstalled tensorflow-estimator-2.2.0\n",
            "Successfully installed mock-4.0.2 tensorboard-1.13.1 tensorflow-estimator-1.13.0 tensorflow-gpu-1.13.1\n",
            "Collecting dicttoxml\n",
            "  Downloading https://files.pythonhosted.org/packages/74/36/534db111db9e7610a41641a1f6669a964aacaf51858f466de264cc8dcdd9/dicttoxml-1.7.4.tar.gz\n",
            "Building wheels for collected packages: dicttoxml\n",
            "  Building wheel for dicttoxml (setup.py) ... \u001b[?25l\u001b[?25hdone\n",
            "  Created wheel for dicttoxml: filename=dicttoxml-1.7.4-cp36-none-any.whl size=17452 sha256=978d35c6ef819eac7bfd9fe0e6d545d3a51753b3cd2ae392e93ffc2d22550bcb\n",
            "  Stored in directory: /root/.cache/pip/wheels/62/4f/a3/afd4a68f5add45a668c14efa53b64d5cffb2be6bacf993c151\n",
            "Successfully built dicttoxml\n",
            "Installing collected packages: dicttoxml\n",
            "Successfully installed dicttoxml-1.7.4\n"
          ],
          "name": "stdout"
        }
      ]
    },
    {
      "cell_type": "code",
      "metadata": {
        "id": "DrHUVJWhhdAx",
        "colab_type": "code",
        "colab": {
          "base_uri": "https://localhost:8080/",
          "height": 315
        },
        "outputId": "98c2fd4f-5246-425a-ac0a-0040763ab886"
      },
      "source": [
        "from bs4 import BeautifulSoup as bs\n",
        "import json\n",
        "from json import loads\n",
        "from dicttoxml import dicttoxml\n",
        "content = []\n",
        "paragraphs=[]\n",
        "data ={}\n",
        "# Read the XML file and preprocess input\n",
        "with open(\"/content/test_input.xml\", \"r\") as file:\n",
        "    # Read each line in the file, readlines() returns a list of lines\n",
        "    content = file.readlines()\n",
        "    # Combine the lines in the list into a string\n",
        "   \n",
        "    content = \"\".join(content)\n",
        "    bs_content = bs(content, \"lxml\")\n",
        "    result =(bs_content.find_all(\"q\"))\n",
        "    result1 = bs_content.find_all(\"summary\")\n",
        "    result2 = bs_content.find_all(\"id\")\n",
        "    #print(result2)\n",
        "    for item,item1,item2 in zip(result,result1,result2):\n",
        "      q=item.get_text(strip=True)\n",
        "      c =item1.get_text(strip=True)\n",
        "      i = item2.get_text(strip=True)\n",
        "      qa = [{'id': i, \"question\": q}]\n",
        "      dict1={'qas':qa,'context':c}\n",
        "      paragraphs.append(dict1)  \n",
        "data['data'] = [{\"paragraphs\": paragraphs}]\n",
        "print(data)\n",
        "\n",
        "with open('data3.json', 'w') as outfile:\n",
        "    json.dump(data, outfile, indent=4)\n",
        "    outfile.close()\n",
        "#call biobert for answering the questions\n",
        "!python run_squad.py \\\n",
        "  --vocab_file=/content/vocab.txt \\\n",
        "  --bert_config_file=/content/bert_config.json \\\n",
        "  --init_checkpoint=../BERT-pubmed-1000000-SQuAD/model.ckpt-14599 \\\n",
        "  --do_train=False \\\n",
        "  --max_query_length=30  \\\n",
        "  --do_predict=True \\\n",
        "  --predict_file=data2.json \\\n",
        "  --predict_batch_size=8 \\\n",
        "  --n_best_size=3 \\\n",
        "  --max_seq_length=384 \\\n",
        "  --doc_stride=128 \\\n",
        "  --output_dir=/content/output/\n",
        "#convert biobert's output to xml\n",
        "json_file_path = \"/content/output/predictions.json\"\n",
        "\n",
        "with open(json_file_path, 'r') as j:\n",
        "     contents = json.loads(j.read())\n",
        "xml = dicttoxml(contents)\n",
        "\n",
        "with open('bert_predictions2.xml', 'wb') as outfile:\n",
        "    outfile.write(xml)\n",
        "    outfile.close()\n",
        "\n"
      ],
      "execution_count": null,
      "outputs": [
        {
          "output_type": "stream",
          "text": [
            "[<id>\n",
            "\t\t\t3_GHR_QA_0000559_1\n",
            "\t\t</id>, <id>\n",
            "\t\t\t3_GHR_QA_0000559_2\n",
            "\t\t</id>, <id>\n",
            "\t\t\t3_GHR_QA_0000559_3\n",
            "\t\t</id>, <id>\n",
            "\t\t\t3_GHR_QA_0000559_4\n",
            "\t\t</id>]\n",
            "{'data': [{'paragraphs': [{'qas': [{'id': '3_GHR_QA_0000559_1', 'question': \"What is the mode of inheritance of Wilson's disease?\"}], 'context': 'The disease has an autosomal recessive mode of inheritance, and is characterized by excessive copper deposition, predominantly in the liver and brain.'}, {'qas': [{'id': '3_GHR_QA_0000559_2', 'question': 'Which fusion protein is involved in the development of Ewing sarcoma?'}], 'context': 'Herein, we show that the DNA repair protein and transcriptional cofactor, EYA3, is highly expressed in Ewing sarcoma tumor samples and cell lines compared with mesenchymal stem cells, the presumed cell-of-origin of Ewing sarcoma, and that it is regulated by the EWS/FLI1 fusion protein transcription factor.'}, {'qas': [{'id': '3_GHR_QA_0000559_3', 'question': 'Does echinacea increase anaphylaxis risk?'}], 'context': 'Risk of anaphylaxis in complementary and alternative medicine. PURPOSE OF REVIEW: Complementary and alternative medicine (CAM) use is widespread across the world. Patients with asthma and allergy regularly use CAM therapies. Allergic and anaphylactic reactions to CAM have been reported. RECENT FINDINGS: Recent attempts to regulate and monitor adverse reaction to these therapies have given us further insight into potential causes of severe allergic reactions. Several culprits identified including Andrographis paniculata, Echinacea species, bee products, Ginkgo biloba and Ginseng are discussed here. SUMMARY: Knowing the factors that increase the risk of anaphylaxis allows reactions to be recognized, reported and further investigated. Research to identify key causative allergens is necessary in the future. Collaboration between the allergy community and CAM practitioners can allow better understanding of allergy to these therapies.'}, {'qas': [{'id': '3_GHR_QA_0000559_4', 'question': 'Treatment of which disease was investigated in the MR CLEAN study?'}], 'context': 'INTRODUCTION: A recent randomized controlled trial (RCT), the Multicenter Randomized CLinical trial of Endovascular treatment for Acute ischemic stroke in the Netherlands (MR CLEAN), demonstrated better outcomes with endovascular treatment compared with medical therapy for acute ischemic stroke (AIS).'}]}]}\n"
          ],
          "name": "stdout"
        },
        {
          "output_type": "execute_result",
          "data": {
            "application/vnd.google.colaboratory.intrinsic": {
              "type": "string"
            },
            "text/plain": [
              "'!python run_squad.py   --vocab_file=/content/vocab.txt   --bert_config_file=/content/bert_config.json   --init_checkpoint=../BERT-pubmed-1000000-SQuAD/model.ckpt-14599   --do_train=False   --max_query_length=30    --do_predict=True   --predict_file=data2.json   --predict_batch_size=8   --n_best_size=3   --max_seq_length=384   --doc_stride=128   --output_dir=/content/output/\\n\\njson_file_path = \"/content/output/predictions.json\"\\n\\nwith open(json_file_path, \\'r\\') as j:\\n     contents = json.loads(j.read())\\nxml = dicttoxml(contents)\\n\\nwith open(\\'bert_predictions2.xml\\', \\'wb\\') as outfile:\\n    outfile.write(xml)\\n    outfile.close()'"
            ]
          },
          "metadata": {
            "tags": []
          },
          "execution_count": 22
        }
      ]
    }
  ]
}