{
  "nbformat": 4,
  "nbformat_minor": 0,
  "metadata": {
    "colab": {
      "name": "QA module",
      "provenance": [],
      "collapsed_sections": [],
      "mount_file_id": "1vLH5agrr2i_QaEwWT2YQP4ppb0AwA2GX",
      "authorship_tag": "ABX9TyNfKtFzcK5xjl6hsRSoVtZ8",
      "include_colab_link": true
    },
    "kernelspec": {
      "name": "python3",
      "display_name": "Python 3"
    },
    "accelerator": "GPU"
  },
  "cells": [
    {
      "cell_type": "markdown",
      "metadata": {
        "id": "view-in-github",
        "colab_type": "text"
      },
      "source": [
        "<a href=\"https://colab.research.google.com/github/masonnlp/bioasq_qa_module/blob/master/bioasq_qa_module.ipynb\" target=\"_parent\"><img src=\"https://colab.research.google.com/assets/colab-badge.svg\" alt=\"Open In Colab\"/></a>"
      ]
    },
    {
      "cell_type": "code",
      "metadata": {
        "id": "rmlhtNiCNQ_H",
        "colab_type": "code",
        "colab": {}
      },
      "source": [
        "%cd /content/drive/My Drive/bert/\n"
      ],
      "execution_count": null,
      "outputs": []
    },
    {
      "cell_type": "code",
      "metadata": {
        "id": "VGohc2YpQhLm",
        "colab_type": "code",
        "colab": {}
      },
      "source": [
        "%pip install tensorflow-gpu==1.13.1\n",
        "%pip install dicttoxml"
      ],
      "execution_count": null,
      "outputs": []
    },
    {
      "cell_type": "code",
      "metadata": {
        "id": "DrHUVJWhhdAx",
        "colab_type": "code",
        "colab": {}
      },
      "source": [
        "from bs4 import BeautifulSoup as bs\n",
        "import json\n",
        "from json import loads\n",
        "from dicttoxml import dicttoxml\n",
        "content = []\n",
        "paragraphs=[]\n",
        "data ={}\n",
        "# Read the XML file and preprocess input\n",
        "with open(\"/content/test_input.xml\", \"r\") as file:\n",
        "    # Read each line in the file, readlines() returns a list of lines\n",
        "    content = file.readlines()\n",
        "    # Combine the lines in the list into a string\n",
        "   \n",
        "    content = \"\".join(content)\n",
        "    bs_content = bs(content, \"lxml\")\n",
        "    result =(bs_content.find_all(\"q\"))\n",
        "    result1 = bs_content.find_all(\"summary\")\n",
        "    result2 = bs_content.find_all(\"id\")\n",
        "    #print(result2)\n",
        "    for item,item1,item2 in zip(result,result1,result2):\n",
        "      q=item.get_text(strip=True)\n",
        "      c =item1.get_text(strip=True)\n",
        "      i = item2.get_text(strip=True)\n",
        "      qa = [{'id': i, \"question\": q}]\n",
        "      dict1={'qas':qa,'context':c}\n",
        "      paragraphs.append(dict1)  \n",
        "data['data'] = [{\"paragraphs\": paragraphs}]\n",
        "print(data)\n",
        "\n",
        "with open('data3.json', 'w') as outfile:\n",
        "    json.dump(data, outfile, indent=4)\n",
        "    outfile.close()\n",
        "#call biobert for answering the questions\n",
        "!python run_squad.py \\\n",
        "  --vocab_file=/content/vocab.txt \\\n",
        "  --bert_config_file=/content/bert_config.json \\\n",
        "  --init_checkpoint=../BERT-pubmed-1000000-SQuAD/model.ckpt-14599 \\\n",
        "  --do_train=False \\\n",
        "  --max_query_length=30  \\\n",
        "  --do_predict=True \\\n",
        "  --predict_file=data2.json \\\n",
        "  --predict_batch_size=8 \\\n",
        "  --n_best_size=3 \\\n",
        "  --max_seq_length=384 \\\n",
        "  --doc_stride=128 \\\n",
        "  --output_dir=/content/output/\n",
        "#convert biobert's output to xml\n",
        "json_file_path = \"/content/output/predictions.json\"\n",
        "\n",
        "with open(json_file_path, 'r') as j:\n",
        "     contents = json.loads(j.read())\n",
        "xml = dicttoxml(contents)\n",
        "\n",
        "with open('bert_predictions2.xml', 'wb') as outfile:\n",
        "    outfile.write(xml)\n",
        "    outfile.close()\n",
        "\n"
      ],
      "execution_count": null,
      "outputs": []
    }
  ]
}